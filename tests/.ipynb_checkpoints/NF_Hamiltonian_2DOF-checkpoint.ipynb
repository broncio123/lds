{
 "cells": [
  {
   "cell_type": "code",
   "execution_count": 2,
   "metadata": {},
   "outputs": [
    {
     "name": "stdout",
     "output_type": "stream",
     "text": [
      "⎡ 1     1    -1         ⎤\n",
      "⎢ ──    ──   ───     0  ⎥\n",
      "⎢ s₁    s₂    s₁        ⎥\n",
      "⎢                       ⎥\n",
      "⎢ α     β    -α         ⎥\n",
      "⎢ ──    ──   ───     0  ⎥\n",
      "⎢ s₁    s₁    s₁        ⎥\n",
      "⎢                       ⎥\n",
      "⎢ λ          λ      ω   ⎥\n",
      "⎢ ──    0    ──     ──  ⎥\n",
      "⎢ s₁         s₁     s₂  ⎥\n",
      "⎢                       ⎥\n",
      "⎢K⋅α⋅λ      K⋅α⋅λ  K⋅β⋅ω⎥\n",
      "⎢─────  0   ─────  ─────⎥\n",
      "⎣  s₁         s₁     s₂ ⎦\n",
      "⎡0   0   1  0⎤\n",
      "⎢            ⎥\n",
      "⎢0   0   0  1⎥\n",
      "⎢            ⎥\n",
      "⎢-1  0   0  0⎥\n",
      "⎢            ⎥\n",
      "⎣0   -1  0  0⎦\n",
      "None\n"
     ]
    }
   ],
   "source": [
    "# Testing symplectic matrix form for 2 DOF system\n",
    "\n",
    "import numpy as np\n",
    "\n",
    "from sympy import *\n",
    "import sys\n",
    "sys.displayhook = pprint\n",
    "from sympy.matrices import *\n",
    "\n",
    "s1, s2, alpha, beta, lam, omega, K = symbols('s1 s2 alpha beta lambda omega K')\n",
    "C = Matrix([[1/s1, 1/s2, -1/s1, 0],[alpha/s1, beta/s1, -alpha/s1, 0],[lam/s1, 0, lam/s1, omega/s2],\n",
    "        [K*alpha*lam/s1, 0, K*lam*alpha/s1, K*omega*beta/s2]])\n",
    "\n",
    "pprint(C)\n",
    "J = Matrix([[0, 0, 1, 0],[0, 0, 0, 1],[-1, 0, 0, 0],[0, -1, 0, 0]])\n",
    "pprint(J)\n"
   ]
  },
  {
   "cell_type": "code",
   "execution_count": 36,
   "metadata": {},
   "outputs": [
    {
     "name": "stdout",
     "output_type": "stream",
     "text": [
      "⎡                                           2                            ⎤\n",
      "⎢                     K⋅α⋅β⋅λ     λ    2⋅K⋅α ⋅λ   2⋅λ    K⋅α⋅β⋅ω     ω   ⎥\n",
      "⎢        0          - ─────── - ─────  ──────── + ───    ─────── + ───── ⎥\n",
      "⎢                         2     s₁⋅s₂      2        2     s₁⋅s₂    s₁⋅s₂ ⎥\n",
      "⎢                       s₁               s₁       s₁                     ⎥\n",
      "⎢                                                                        ⎥\n",
      "⎢                                                            2           ⎥\n",
      "⎢ K⋅α⋅β⋅λ     λ                        K⋅α⋅β⋅λ     λ      K⋅β ⋅ω    ω    ⎥\n",
      "⎢ ─────── + ─────           0          ─────── + ─────    ────── + ───   ⎥\n",
      "⎢     2     s₁⋅s₂                          2     s₁⋅s₂    s₁⋅s₂      2   ⎥\n",
      "⎢   s₁                                   s₁                        s₂    ⎥\n",
      "⎢                                                                        ⎥\n",
      "⎢       2                                                                ⎥\n",
      "⎢  2⋅K⋅α ⋅λ   2⋅λ     K⋅α⋅β⋅λ     λ                       K⋅α⋅β⋅ω     ω  ⎥\n",
      "⎢- ──────── - ───   - ─────── - ─────         0         - ─────── - ─────⎥\n",
      "⎢      2        2         2     s₁⋅s₂                      s₁⋅s₂    s₁⋅s₂⎥\n",
      "⎢    s₁       s₁        s₁                                               ⎥\n",
      "⎢                                                                        ⎥\n",
      "⎢                         2                                              ⎥\n",
      "⎢  K⋅α⋅β⋅ω     ω       K⋅β ⋅ω    ω     K⋅α⋅β⋅ω     ω                     ⎥\n",
      "⎢- ─────── - ─────   - ────── - ───    ─────── + ─────          0        ⎥\n",
      "⎢   s₁⋅s₂    s₁⋅s₂     s₁⋅s₂      2     s₁⋅s₂    s₁⋅s₂                   ⎥\n",
      "⎣                               s₂                                       ⎦\n",
      "⎡                                          2⋅λ    ω      2⋅K⋅α⋅λ   K⋅β⋅ω ⎤\n",
      "⎢        0                   0             ─── + ───     ─────── + ───── ⎥\n",
      "⎢                                            2     2         2        2  ⎥\n",
      "⎢                                          s₁    s₂        s₁       s₂   ⎥\n",
      "⎢                                                                        ⎥\n",
      "⎢                                                            2        2  ⎥\n",
      "⎢                                        2⋅α⋅λ    β⋅ω   2⋅K⋅α ⋅λ   K⋅β ⋅ω⎥\n",
      "⎢        0                   0           ───── + ─────  ──────── + ──────⎥\n",
      "⎢                                           2    s₁⋅s₂      2      s₁⋅s₂ ⎥\n",
      "⎢                                         s₁              s₁             ⎥\n",
      "⎢                                                                        ⎥\n",
      "⎢     2⋅λ    ω          2⋅α⋅λ    β⋅ω                                     ⎥\n",
      "⎢   - ─── - ───       - ───── - ─────          0                0        ⎥\n",
      "⎢       2     2            2    s₁⋅s₂                                    ⎥\n",
      "⎢     s₁    s₂           s₁                                              ⎥\n",
      "⎢                                                                        ⎥\n",
      "⎢                          2        2                                    ⎥\n",
      "⎢  2⋅K⋅α⋅λ   K⋅β⋅ω    2⋅K⋅α ⋅λ   K⋅β ⋅ω                                  ⎥\n",
      "⎢- ─────── - ─────  - ──────── - ──────        0                0        ⎥\n",
      "⎢      2        2         2      s₁⋅s₂                                   ⎥\n",
      "⎣    s₁       s₂        s₁                                               ⎦\n"
     ]
    }
   ],
   "source": [
    "pprint(C.T*J*C)\n",
    "pprint(C*J*C.T)"
   ]
  },
  {
   "cell_type": "code",
   "execution_count": 3,
   "metadata": {},
   "outputs": [
    {
     "data": {
      "text/plain": [
       "1.0*beta**4 + 1.0*beta**2*omega_x**2 - 2.0*omega_x**2*omega_y**2"
      ]
     },
     "execution_count": 3,
     "metadata": {},
     "output_type": "execute_result"
    }
   ],
   "source": [
    "beta, omega_x, omega_y = symbols('beta omega_x omega_y')\n",
    "p_beta = Matrix([[-beta, 0, 1, 0],[0, -beta, 0, 1],[-omega_x**2, -np.sqrt(2)*omega_x*omega_y, -beta, 0],\n",
    "                [-np.sqrt(2)*omega_x*omega_y, 0, 0, -beta]])\n",
    "\n",
    "simplify(p_beta.det())"
   ]
  },
  {
   "cell_type": "code",
   "execution_count": 4,
   "metadata": {},
   "outputs": [
    {
     "name": "stdout",
     "output_type": "stream",
     "text": [
      "⎡                        ⎛ 2     2⎞                             ⎛ 2     2⎞ ⎤\n",
      "⎢      0.707106781186547⋅⎝λ  + ωₓ ⎠        -0.707106781186547⋅λ⋅⎝λ  + ωₓ ⎠ ⎥\n",
      "⎢-1    ────────────────────────────    λ   ────────────────────────────────⎥\n",
      "⎢                 ωₓ⋅ω_y                                ωₓ⋅ω_y             ⎥\n",
      "⎢                                                                          ⎥\n",
      "⎢                                                               ⎛ 2     2⎞ ⎥\n",
      "⎢                                           0.707106781186547⋅ω⋅⎝ω  - ωₓ ⎠ ⎥\n",
      "⎢0                  0                  ω    ────────────────────────────── ⎥\n",
      "⎢                                                       ωₓ⋅ω_y             ⎥\n",
      "⎢                                                                          ⎥\n",
      "⎢                       ⎛   2     2⎞                            ⎛ 2     2⎞ ⎥\n",
      "⎢    -0.707106781186547⋅⎝- λ  - ωₓ ⎠        0.707106781186547⋅λ⋅⎝λ  + ωₓ ⎠ ⎥\n",
      "⎢-1  ────────────────────────────────  -λ   ────────────────────────────── ⎥\n",
      "⎢                 ωₓ⋅ω_y                                ωₓ⋅ω_y             ⎥\n",
      "⎢                                                                          ⎥\n",
      "⎢                        ⎛ 2     2⎞                                        ⎥\n",
      "⎢     -0.707106781186547⋅⎝ω  - ωₓ ⎠                                        ⎥\n",
      "⎢-1   ──────────────────────────────   0                  0                ⎥\n",
      "⎣                 ωₓ⋅ω_y                                                   ⎦\n",
      "None\n"
     ]
    }
   ],
   "source": [
    "# simplify(p_beta.eigenvals())\n",
    "# simplify(p_beta.eigenvects())\n",
    "\n",
    "# checking the symplectic condition for a transformation matrix\n",
    "import numpy as np\n",
    "\n",
    "from sympy import *\n",
    "import sys\n",
    "sys.displayhook = pprint\n",
    "from sympy.matrices import *\n",
    "\n",
    "omega_x, omega_y, lam, omega = symbols('omega_x omega_y lambda omega')\n",
    "C = Matrix([[1, 1, -1, 0],[-(lam**2 + omega_x**2)/(np.sqrt(2)*omega_x*omega_y), \n",
    "                          (omega**2 - omega_x**2)/(np.sqrt(2)*omega_x*omega_y),\n",
    "                          (lam**2 + omega_x**2)/(np.sqrt(2)*omega_x*omega_y), 0],\n",
    "            [lam, 0, lam, omega],\n",
    "            [-(lam*(lam**2 + omega_x**2))/(np.sqrt(2)*omega_x*omega_y), 0,\n",
    "              -(lam*(lam**2 + omega_x**2))/(np.sqrt(2)*omega_x*omega_y),\n",
    "            (omega*(omega**2 - omega_x**2))/(np.sqrt(2)*omega_x*omega_y)]])\n",
    "\n",
    "# Slight change in the sign of third column\n",
    "# C = Matrix([[1, 1, 1, 0],[-(lam**2 + omega_x**2)/(np.sqrt(2)*omega_x*omega_y), \n",
    "#                           (omega**2 - omega_x**2)/(np.sqrt(2)*omega_x*omega_y),\n",
    "#                           -(lam**2 + omega_x**2)/(np.sqrt(2)*omega_x*omega_y), 0],\n",
    "#             [lam, 0, -lam, omega],\n",
    "#             [-(lam*(lam**2 + omega_x**2))/(np.sqrt(2)*omega_x*omega_y), 0,\n",
    "#             (lam*(lam**2 + omega_x**2))/(np.sqrt(2)*omega_x*omega_y),\n",
    "#             (omega*(omega**2 - omega_x**2))/(np.sqrt(2)*omega_x*omega_y)]])\n",
    "\n",
    "# pprint(C)\n",
    "J = Matrix([[0,0, 1, 0],[0, 0, 0, 1],[-1, 0, 0, 0],[0, -1, 0, 0]])\n",
    "temp = J*C.T\n",
    "simplify(pprint(temp))"
   ]
  },
  {
   "cell_type": "code",
   "execution_count": 5,
   "metadata": {},
   "outputs": [
    {
     "name": "stdout",
     "output_type": "stream",
     "text": [
      "0\n",
      "                    ⎛   2     2⎞                     ⎛ 2     2⎞\n",
      "  0.707106781186547⋅⎝- λ  - ωₓ ⎠   0.707106781186547⋅⎝λ  + ωₓ ⎠\n",
      "- ────────────────────────────── - ────────────────────────────\n",
      "              ωₓ⋅ω_y                          ωₓ⋅ω_y           \n",
      "-2⋅λ - ω\n",
      "                   ⎛ 2     2⎞                       ⎛ 2     2⎞\n",
      "1.41421356237309⋅λ⋅⎝λ  + ωₓ ⎠   0.707106781186547⋅ω⋅⎝ω  - ωₓ ⎠\n",
      "───────────────────────────── - ──────────────────────────────\n",
      "            ωₓ⋅ω_y                          ωₓ⋅ω_y            \n",
      "                  ⎛   2     2⎞                     ⎛ 2     2⎞\n",
      "0.707106781186547⋅⎝- λ  - ωₓ ⎠   0.707106781186547⋅⎝λ  + ωₓ ⎠\n",
      "────────────────────────────── + ────────────────────────────\n",
      "            ωₓ⋅ω_y                          ωₓ⋅ω_y           \n",
      "0\n",
      "                      ⎛   2     2⎞                       ⎛ 2     2⎞           \n",
      "  0.707106781186547⋅λ⋅⎝- λ  - ωₓ ⎠   0.707106781186547⋅λ⋅⎝λ  + ωₓ ⎠   0.707106\n",
      "- ──────────────────────────────── + ────────────────────────────── - ────────\n",
      "               ωₓ⋅ω_y                            ωₓ⋅ω_y                       \n",
      "\n",
      "            ⎛ 2     2⎞\n",
      "781186547⋅ω⋅⎝ω  - ωₓ ⎠\n",
      "──────────────────────\n",
      "    ωₓ⋅ω_y            \n",
      "                                                2                   2\n",
      "      ⎛   2     2⎞ ⎛ 2     2⎞         ⎛ 2     2⎞          ⎛ 2     2⎞ \n",
      "0.5⋅λ⋅⎝- λ  - ωₓ ⎠⋅⎝λ  + ωₓ ⎠   0.5⋅λ⋅⎝λ  + ωₓ ⎠    0.5⋅ω⋅⎝ω  - ωₓ ⎠ \n",
      "───────────────────────────── - ───────────────── - ─────────────────\n",
      "             2    2                    2    2              2    2    \n",
      "           ωₓ ⋅ω_y                   ωₓ ⋅ω_y             ωₓ ⋅ω_y     \n",
      "2⋅λ + ω\n",
      "                    ⎛   2     2⎞                       ⎛ 2     2⎞             \n",
      "0.707106781186547⋅λ⋅⎝- λ  - ωₓ ⎠   0.707106781186547⋅λ⋅⎝λ  + ωₓ ⎠   0.70710678\n",
      "──────────────────────────────── - ────────────────────────────── + ──────────\n",
      "             ωₓ⋅ω_y                            ωₓ⋅ω_y                         \n",
      "\n",
      "          ⎛ 2     2⎞\n",
      "1186547⋅ω⋅⎝ω  - ωₓ ⎠\n",
      "────────────────────\n",
      "  ωₓ⋅ω_y            \n",
      "0\n",
      "0\n",
      "                     ⎛ 2     2⎞                       ⎛ 2     2⎞\n",
      "  1.41421356237309⋅λ⋅⎝λ  + ωₓ ⎠   0.707106781186547⋅ω⋅⎝ω  - ωₓ ⎠\n",
      "- ───────────────────────────── + ──────────────────────────────\n",
      "              ωₓ⋅ω_y                          ωₓ⋅ω_y            \n",
      "                                                  2                   2\n",
      "        ⎛   2     2⎞ ⎛ 2     2⎞         ⎛ 2     2⎞          ⎛ 2     2⎞ \n",
      "  0.5⋅λ⋅⎝- λ  - ωₓ ⎠⋅⎝λ  + ωₓ ⎠   0.5⋅λ⋅⎝λ  + ωₓ ⎠    0.5⋅ω⋅⎝ω  - ωₓ ⎠ \n",
      "- ───────────────────────────── + ───────────────── + ─────────────────\n",
      "               2    2                    2    2              2    2    \n",
      "             ωₓ ⋅ω_y                   ωₓ ⋅ω_y             ωₓ ⋅ω_y     \n",
      "0\n",
      "0\n"
     ]
    }
   ],
   "source": [
    "J_scaled = C*J*C.T\n",
    "for j in range(4):\n",
    "    for i in range(4):\n",
    "        simplify(pprint(J_scaled[i,j]))"
   ]
  },
  {
   "cell_type": "code",
   "execution_count": 67,
   "metadata": {},
   "outputs": [
    {
     "data": {
      "text/plain": [
       "{-I*omega_x: 1, I*omega_x: 1, 0: 2}"
      ]
     },
     "execution_count": 67,
     "metadata": {},
     "output_type": "execute_result"
    }
   ],
   "source": [
    "# Jacobian\n",
    "\n",
    "omega_x, omega_y, lam, omega = symbols('omega_x omega_y lambda omega')\n",
    "jacobian_saddle = Matrix([[0,0,1,0],[0,0,0,1],[-omega_x**2,0,0,0],\n",
    "                         [0,0,0,0]])\n",
    "# P, D = jacobian_saddle.diagonalize()\n",
    "jacobian_saddle.eigenvals()\n"
   ]
  },
  {
   "cell_type": "markdown",
   "metadata": {},
   "source": [
    "## Testing arbitrary symplectic transformation"
   ]
  },
  {
   "cell_type": "code",
   "execution_count": 11,
   "metadata": {},
   "outputs": [
    {
     "name": "stdout",
     "output_type": "stream",
     "text": [
      "⎡0   0   1  0⎤\n",
      "⎢            ⎥\n",
      "⎢0   0   0  1⎥\n",
      "⎢            ⎥\n",
      "⎢-1  0   0  1⎥\n",
      "⎢            ⎥\n",
      "⎣0   -1  1  0⎦\n",
      "⎡0   0   1  0⎤\n",
      "⎢            ⎥\n",
      "⎢0   0   0  1⎥\n",
      "⎢            ⎥\n",
      "⎢-1  0   0  0⎥\n",
      "⎢            ⎥\n",
      "⎣0   -1  0  0⎦\n"
     ]
    }
   ],
   "source": [
    "# C = Matrix([[1, 1, 1, 0],[1, 1, 1, 0],[1, 0, 1, 1],\n",
    "#         [1, 0, 1, 1]])\n",
    "# pprint(C)\n",
    "\n",
    "C = Matrix([[0, 0, 1, 0],[0, 0, 0, 1],[-1, 0, 1, 1],\n",
    "        [0, -1, 1, 1]])\n",
    "\n",
    "C = Matrix([[0, 0, 1, 0],[0, 0, 0, 1],[-1, 0, 1, 0],\n",
    "        [0, -1, 0, 1]])\n",
    "\n",
    "C = Matrix([[0, 0, 1, 0],[0, 0, 0, 1],[-1, 0, 0, 1],\n",
    "        [0, -1, 1, 0]])\n",
    "pprint(C)\n",
    "\n",
    "\n",
    "# s1, s2, alpha, beta, lam, omega, K, R = symbols('s1 s2 alpha beta lambda omega K R')\n",
    "# C = Matrix([[1/s1, 1/s2, -1/s1, 0],[alpha/s1, beta/s1, -alpha/s1, 0],[lam/s1, 0, lam/s1, omega/s2],\n",
    "#         [(2*lam*alpha)/(R**2*s1), 0, (2*lam*alpha)/(R**2*s1), (2*omega*beta)/(R**2*s2)]])\n",
    "\n",
    "# pprint(C)\n",
    "\n",
    "J = Matrix([[0, 0, 1, 0],[0, 0, 0, 1],[-1, 0, 0, 0],[0, -1, 0, 0]])\n",
    "# pprint(J)\n",
    "\n",
    "pprint(C*J*C.T)\n",
    "# pprint(C.T*J*C)\n"
   ]
  },
  {
   "cell_type": "code",
   "execution_count": 79,
   "metadata": {},
   "outputs": [
    {
     "name": "stdout",
     "output_type": "stream",
     "text": [
      "⎡          1     ⎤\n",
      "⎢ 0    0   ──  0 ⎥\n",
      "⎢          sx    ⎥\n",
      "⎢                ⎥\n",
      "⎢              1 ⎥\n",
      "⎢ 0    0   0   ──⎥\n",
      "⎢              sy⎥\n",
      "⎢                ⎥\n",
      "⎢-sx   0   0   0 ⎥\n",
      "⎢                ⎥\n",
      "⎣ 0   -sy  0   0 ⎦\n",
      "⎡0   0   1  0⎤\n",
      "⎢            ⎥\n",
      "⎢0   0   0  1⎥\n",
      "⎢            ⎥\n",
      "⎢-1  0   1  1⎥\n",
      "⎢            ⎥\n",
      "⎣0   -1  1  1⎦\n",
      "⎡0   0   1  0⎤\n",
      "⎢            ⎥\n",
      "⎢0   0   0  1⎥\n",
      "⎢            ⎥\n",
      "⎢-1  0   0  0⎥\n",
      "⎢            ⎥\n",
      "⎣0   -1  0  0⎦\n"
     ]
    }
   ],
   "source": [
    "sx, sy, delta = symbols('sx sy delta')\n",
    "C = Matrix([[0, 0, 1/sx, 0],[0, 0, 0, 1/sy],[-1*sx, 0, 0, 0],\n",
    "        [0, -1*sy, 0, 0]])\n",
    "pprint(C)\n",
    "\n",
    "J = Matrix([[0,0, 1, 0],[0, 0, 0, 1],[-1, 0, 0, 0],[0, -1, 0, 0]])\n",
    "# pprint(J)\n",
    "\n",
    "# pprint(C*J*C.T)\n",
    "\n",
    "\n",
    "# C = 1/np.sqrt(2)*Matrix([[1, 0, 1, 0],[0, 1, 0, 1],[-1, 0, 1, 0],\n",
    "#         [0, -1, 0, 1]])\n",
    "# pprint(C)\n",
    "\n",
    "# C = Matrix([[0, 0, 1, 0],[0, 0, 0, 1],[-1, 0, 1, 0],\n",
    "#         [0, -1, 0, 1]])\n",
    "\n",
    "C = Matrix([[0, 0, 1, 0],[0, 0, 0, 1],[-1, 0, 1, 1],\n",
    "        [0, -1, 1, 1]])\n",
    "pprint(C)\n",
    "\n",
    "J = Matrix([[0,0, 1, 0],[0, 0, 0, 1],[-1, 0, 0, 0],[0, -1, 0, 0]])\n",
    "# pprint(J)\n",
    "\n",
    "pprint(C*J*C.T)\n",
    "# pprint(C.T*J*C)\n"
   ]
  },
  {
   "cell_type": "markdown",
   "metadata": {},
   "source": [
    "## Testing arbitrary 6 x 6 matrix for symplectic condition"
   ]
  },
  {
   "cell_type": "code",
   "execution_count": 3,
   "metadata": {},
   "outputs": [
    {
     "name": "stdout",
     "output_type": "stream",
     "text": [
      "⎡0   0   0   1  0  0⎤\n",
      "⎢                   ⎥\n",
      "⎢0   0   0   0  1  0⎥\n",
      "⎢                   ⎥\n",
      "⎢0   0   0   0  0  1⎥\n",
      "⎢                   ⎥\n",
      "⎢-1  0   0   1  1  1⎥\n",
      "⎢                   ⎥\n",
      "⎢0   -1  0   1  1  1⎥\n",
      "⎢                   ⎥\n",
      "⎣0   0   -1  1  1  1⎦\n",
      "⎡0   0   0   1  0  0⎤\n",
      "⎢                   ⎥\n",
      "⎢0   0   0   0  1  0⎥\n",
      "⎢                   ⎥\n",
      "⎢0   0   0   0  0  1⎥\n",
      "⎢                   ⎥\n",
      "⎢-1  0   0   0  0  0⎥\n",
      "⎢                   ⎥\n",
      "⎢0   -1  0   0  0  0⎥\n",
      "⎢                   ⎥\n",
      "⎣0   0   -1  0  0  0⎦\n"
     ]
    }
   ],
   "source": [
    "C = Matrix([[0, 0, 0, 1, 0, 0], [0, 0, 0, 0, 1, 0], [0, 0, 0, 0, 0, 1],\n",
    "            [-1, 0, 0, 1, 1, 1], [0, -1, 0, 1, 1, 1], [0, 0, -1, 1, 1, 1]])\n",
    "pprint(C)\n",
    "\n",
    "J = Matrix([[0, 0, 0, 1, 0, 0], [0, 0, 0, 0, 1, 0], [0, 0, 0, 0, 0, 1],\n",
    "            [-1, 0, 0, 0, 0, 0], [0, -1, 0, 0, 0, 0], [0, 0, -1, 0, 0, 0]])\n",
    "# pprint(J)\n",
    "\n",
    "pprint(C*J*C.T)"
   ]
  },
  {
   "cell_type": "code",
   "execution_count": 9,
   "metadata": {},
   "outputs": [
    {
     "name": "stdout",
     "output_type": "stream",
     "text": [
      "⎡0   0   0   1  0  0⎤\n",
      "⎢                   ⎥\n",
      "⎢0   0   0   0  1  0⎥\n",
      "⎢                   ⎥\n",
      "⎢0   0   0   0  0  1⎥\n",
      "⎢                   ⎥\n",
      "⎢-1  0   0   0  1  1⎥\n",
      "⎢                   ⎥\n",
      "⎢0   -1  0   1  0  1⎥\n",
      "⎢                   ⎥\n",
      "⎣0   0   -1  1  1  0⎦\n",
      "⎡0   0   0   1  0  0⎤\n",
      "⎢                   ⎥\n",
      "⎢0   0   0   0  1  0⎥\n",
      "⎢                   ⎥\n",
      "⎢0   0   0   0  0  1⎥\n",
      "⎢                   ⎥\n",
      "⎢-1  0   0   0  0  0⎥\n",
      "⎢                   ⎥\n",
      "⎢0   -1  0   0  0  0⎥\n",
      "⎢                   ⎥\n",
      "⎣0   0   -1  0  0  0⎦\n"
     ]
    }
   ],
   "source": [
    "# C = Matrix([[0, 0, 0, 1, 0, 0], [0, 0, 0, 0, 1, 0], [0, 0, 0, 0, 0, 1],\n",
    "#             [-1, 0, 0, 1, 1, 1], [0, -1, 0, 1, 1, 1], [0, 0, -1, 1, 1, 1]])\n",
    "# pprint(C)\n",
    "\n",
    "# C = Matrix([[0, 0, 0, 1, 0, 0], [0, 0, 0, 0, 1, 0], [0, 0, 0, 0, 0, 1],\n",
    "#             [-1, 0, 0, 1, 0, 0], [0, -1, 0, 0, 1, 0], [0, 0, -1, 0, 0, 1]])\n",
    "# pprint(C)\n",
    "\n",
    "C = Matrix([[0, 0, 0, 1, 0, 0], [0, 0, 0, 0, 1, 0], [0, 0, 0, 0, 0, 1],\n",
    "            [-1, 0, 0, 0, 1, 1], [0, -1, 0, 1, 0, 1], [0, 0, -1, 1, 1, 0]])\n",
    "pprint(C)\n",
    "\n",
    "J = Matrix([[0, 0, 0, 1, 0, 0], [0, 0, 0, 0, 1, 0], [0, 0, 0, 0, 0, 1],\n",
    "            [-1, 0, 0, 0, 0, 0], [0, -1, 0, 0, 0, 0], [0, 0, -1, 0, 0, 0]])\n",
    "# pprint(J)\n",
    "\n",
    "pprint(C*J*C.T)"
   ]
  },
  {
   "cell_type": "markdown",
   "metadata": {},
   "source": [
    "## Geometry of phase space structures in transformed system\n",
    "\n",
    "Plotting few things for the transformed system obtained using the symplectic transformation:\n",
    "\n",
    "\\begin{equation}\n",
    "C =\n",
    "\\begin{pmatrix}\n",
    "0 & 0 & 1 & 0 \\\\\n",
    "0 & 0 & 0 & 1 \\\\\n",
    "-1 & 0 & 1 & 1 \\\\\n",
    "0 & -1 & 1 & 1\n",
    "\\end{pmatrix}\t\n",
    "\\end{equation}\n"
   ]
  },
  {
   "cell_type": "markdown",
   "metadata": {},
   "source": [
    "## Energy boundary on a slice"
   ]
  },
  {
   "cell_type": "code",
   "execution_count": 3,
   "metadata": {},
   "outputs": [
    {
     "data": {
      "image/png": "[encoded data removed]",
      "text/plain": [
       "<Figure size 576x576 with 1 Axes>"
      ]
     },
     "metadata": {},
     "output_type": "display_data"
    }
   ],
   "source": [
    "import matplotlib as mpl\n",
    "import matplotlib.pyplot as plt\n",
    "from mpl_toolkits.mplot3d import Axes3D\n",
    "from matplotlib import cm\n",
    "\n",
    "from scipy.optimize import fsolve\n",
    "\n",
    "from pylab import rcParams\n",
    "mpl.rcParams['mathtext.fontset'] = 'cm'\n",
    "mpl.rcParams['mathtext.rm'] = 'serif'\n",
    "\n",
    "rcParams['figure.figsize'] = 8, 8\n",
    "\n",
    "label_size = 20 #10, 20\n",
    "mpl.rcParams['xtick.labelsize'] = label_size\n",
    "mpl.rcParams['ytick.labelsize'] = label_size\n",
    "mpl.rcParams['axes.labelsize'] = 35 #, 15\n",
    "\n",
    "lam = 1\n",
    "omega2 = 1\n",
    "tot_energy = 0.5\n",
    "pxMin = -np.sqrt(tot_energy/(lam/2 + omega2))\n",
    "pxMax = +np.sqrt(tot_energy/(lam/2 + omega2))\n",
    "\n",
    "xMin = -np.sqrt(tot_energy/omega2)\n",
    "xMax = +np.sqrt(tot_energy/omega2)\n",
    "\n",
    "xGrid = np.linspace(xMin, xMax, 20)\n",
    "pxGrid = np.linspace(pxMin, pxMax, 20)\n",
    "\n",
    "xUpp = lambda px: (px*omega2 - np.sqrt(tot_energy*omega2 - 0.5*lam*omega2*px**2))/omega2\n",
    "xLow = lambda px: (px*omega2 + np.sqrt(tot_energy*omega2 - 0.5*lam*omega2*px**2))/omega2\n",
    "\n",
    "fig = plt.figure()\n",
    "ax = fig.gca()\n",
    "plt.plot(xUpp(pxGrid), pxGrid, '-m')\n",
    "plt.plot(-xUpp(pxGrid), pxGrid, '-m')\n",
    "plt.plot(xLow(pxGrid), pxGrid, '-m')\n",
    "plt.plot(-xLow(pxGrid), pxGrid, '-m')\n",
    "plt.xlabel(r'$x$')\n",
    "plt.ylabel(r'$p_x$')\n",
    "ax.set_aspect('equal')\n",
    "plt.show()"
   ]
  },
  {
   "cell_type": "code",
   "execution_count": null,
   "metadata": {},
   "outputs": [],
   "source": []
  }
 ],
 "metadata": {
  "kernelspec": {
   "display_name": "Python 3",
   "language": "python",
   "name": "python3"
  },
  "language_info": {
   "codemirror_mode": {
    "name": "ipython",
    "version": 3
   },
   "file_extension": ".py",
   "mimetype": "text/x-python",
   "name": "python",
   "nbconvert_exporter": "python",
   "pygments_lexer": "ipython3",
   "version": "3.7.4"
  }
 },
 "nbformat": 4,
 "nbformat_minor": 4
}
