{
 "cells": [
  {
   "cell_type": "markdown",
   "metadata": {},
   "source": [
    "# Computing the Lagrangian Descriptors of Nonlinear Dynamical Systems"
   ]
  },
  {
   "cell_type": "markdown",
   "metadata": {},
   "source": [
    "## Functions"
   ]
  },
  {
   "cell_type": "markdown",
   "metadata": {},
   "source": [
    "__NOTE__: For testing, execute all the cells below before executing/modifying all the benchmark examples."
   ]
  },
  {
   "cell_type": "code",
   "execution_count": 1,
   "metadata": {
    "ExecuteTime": {
     "end_time": "2020-05-19T09:53:57.781354Z",
     "start_time": "2020-05-19T09:53:52.945866Z"
    }
   },
   "outputs": [],
   "source": [
    "import numpy\n",
    "import matplotlib.pyplot as plt"
   ]
  },
  {
   "cell_type": "code",
   "execution_count": 2,
   "metadata": {
    "ExecuteTime": {
     "end_time": "2020-05-19T09:54:01.224599Z",
     "start_time": "2020-05-19T09:53:57.784065Z"
    }
   },
   "outputs": [],
   "source": [
    "import scipy.integrate\n",
    "integrator = scipy.integrate.solve_ivp # RK45 (default)"
   ]
  },
  {
   "cell_type": "markdown",
   "metadata": {},
   "source": [
    "INPUT PARAMETERS"
   ]
  },
  {
   "cell_type": "code",
   "execution_count": 3,
   "metadata": {
    "ExecuteTime": {
     "end_time": "2020-05-19T09:54:01.238925Z",
     "start_time": "2020-05-19T09:54:01.227959Z"
    }
   },
   "outputs": [],
   "source": [
    "###################################\n",
    "# Integration parameters\n",
    "t0 = 0\n",
    "tau = 12\n",
    "dt = 0.1\n",
    "###################################\n",
    "# Lagrangian descriptor parameters\n",
    "p_norm = 1/2\n",
    "flag_m = True\n",
    "###################################\n",
    "# Mesh parameters\n",
    "x_min,x_max = [-1.6, 1.6]\n",
    "y_min,y_max = [-1, 1]\n",
    "Nx, Ny = [300, 300]\n",
    "\n",
    "GRID_PARAMETERS = [(x_min, x_max, Nx), (y_min, y_max, Ny)]\n",
    "\n",
    "dim = 2\n",
    "shape = (Nx*Ny, dim)\n",
    "###################################\n",
    "# Time Dependent Perurbation (for Hamilton Duffing)\n",
    "flag_pert = 1;\n",
    "perturbation_params = [0.15, 0.5]"
   ]
  },
  {
   "cell_type": "code",
   "execution_count": 4,
   "metadata": {
    "ExecuteTime": {
     "end_time": "2020-05-19T09:54:01.255234Z",
     "start_time": "2020-05-19T09:54:01.243204Z"
    }
   },
   "outputs": [],
   "source": [
    "def generate_points(GRID_PARAMETERS):\n",
    "    x_min, x_max, Nx = GRID_PARAMETERS[0]\n",
    "    y_min, y_max, Ny = GRID_PARAMETERS[1]\n",
    "    mesh = numpy.zeros(shape) # Mesh to accumulate \n",
    "    points_x = numpy.linspace(x_min, x_max, Nx)\n",
    "    points_y = numpy.linspace(y_min, y_max, Ny)    \n",
    "    X, Y = numpy.meshgrid(points_x, points_y)  # Grid in pahse-space\n",
    "    mesh[:,0] = X.T.reshape(-1)\n",
    "    mesh[:,1] = Y.T.reshape(-1)\n",
    "    return mesh"
   ]
  },
  {
   "cell_type": "code",
   "execution_count": 5,
   "metadata": {
    "ExecuteTime": {
     "end_time": "2020-05-19T09:54:01.272583Z",
     "start_time": "2020-05-19T09:54:01.260153Z"
    }
   },
   "outputs": [],
   "source": [
    "def flatten_array(points): return points.reshape(-1)\n",
    "def recover_array(points_flat, shape=shape): return points_flat.reshape(shape)"
   ]
  },
  {
   "cell_type": "markdown",
   "metadata": {},
   "source": [
    "Turn phase-space vector field to high-dimensional vector field"
   ]
  },
  {
   "cell_type": "code",
   "execution_count": 6,
   "metadata": {
    "ExecuteTime": {
     "end_time": "2020-05-19T09:54:01.286909Z",
     "start_time": "2020-05-19T09:54:01.276918Z"
    }
   },
   "outputs": [],
   "source": [
    "def vector_field_flat(t, points, vector_field):\n",
    "    u = recover_array(points)\n",
    "    v = vector_field(t, u)\n",
    "    # Flatten output \n",
    "    v_flat = flatten_array(v)\n",
    "\n",
    "    return v_flat"
   ]
  },
  {
   "cell_type": "markdown",
   "metadata": {},
   "source": [
    "Extracts solution from solver"
   ]
  },
  {
   "cell_type": "code",
   "execution_count": 7,
   "metadata": {
    "ExecuteTime": {
     "end_time": "2020-05-19T09:54:01.300380Z",
     "start_time": "2020-05-19T09:54:01.292350Z"
    }
   },
   "outputs": [],
   "source": [
    "def extract_y_final(solution_object):\n",
    "    y_final = solution_object.y.T[-1]\n",
    "    return y_final"
   ]
  },
  {
   "cell_type": "code",
   "execution_count": 8,
   "metadata": {
    "ExecuteTime": {
     "end_time": "2020-05-19T09:54:01.323753Z",
     "start_time": "2020-05-19T09:54:01.308106Z"
    }
   },
   "outputs": [],
   "source": [
    "def accumulate_lagrangian_descriptor(LD, points_initial, points_now, p_norm = p_norm, flag_m = True):\n",
    "    if flag_m: # p-norm LDs\n",
    "        LD_accum = LD + ((abs(points_now[:,0] - points_initial[:,0]))**p_norm + (abs(points_now[:,1] - points_initial[:,1]))**p_norm) * dt ** (1 - p_norm);\n",
    "    else:  # arclength LDs\n",
    "        LD_accum = LD + sqrt((points_now[:,0] - points_now[:,0])**2 + (points_now[:,1] - points_initial[:,1])**2);\n",
    "    return LD_accum"
   ]
  },
  {
   "cell_type": "markdown",
   "metadata": {},
   "source": [
    "Removed `dt` and `p` from functions since these are global variables."
   ]
  },
  {
   "cell_type": "markdown",
   "metadata": {},
   "source": [
    "<span style='color:red'>What about flag_m?</span>"
   ]
  },
  {
   "cell_type": "code",
   "execution_count": 9,
   "metadata": {
    "ExecuteTime": {
     "end_time": "2020-05-19T09:54:01.348290Z",
     "start_time": "2020-05-19T09:54:01.329020Z"
    }
   },
   "outputs": [],
   "source": [
    "def compute_lagrangian_descriptor(points_initial, vector_field, time_interval, dt = dt, norm = False):\n",
    "    f = vector_field_flat\n",
    "    t_initial, t_final = time_interval\n",
    "    if t_final < t_initial:\n",
    "        dt = - dt\n",
    "    else:\n",
    "        dt = dt\n",
    "    LD = numpy.zeros(Nx*Ny)  # Array to store forward LDs\n",
    "\n",
    "    for t in numpy.arange(t_initial, t_final - dt, dt):\n",
    "        ###################################\n",
    "        # Inputs for integrator\n",
    "        t_span = (t, t + dt)\n",
    "        y0 = flatten_array(points_initial)\n",
    "        ###################################\n",
    "        # Outputs from integration\n",
    "        solution_object = integrator(f, t_span, y0, args=(vector_field, ))\n",
    "        points_final = extract_y_final(solution_object)\n",
    "        points_final = recover_array(points_final)\n",
    "        ###################################\n",
    "        # Compute LD\n",
    "        LD = accumulate_lagrangian_descriptor(LD, points_initial, points_final)\n",
    "        ###################################\n",
    "        # For next iteration\n",
    "        points_initial = points_final\n",
    "    return LD"
   ]
  },
  {
   "cell_type": "markdown",
   "metadata": {},
   "source": [
    "Break down `lagrangian_descriptors` into separate code chunks"
   ]
  },
  {
   "cell_type": "code",
   "execution_count": 10,
   "metadata": {
    "ExecuteTime": {
     "end_time": "2020-05-19T09:54:01.381216Z",
     "start_time": "2020-05-19T09:54:01.360287Z"
    }
   },
   "outputs": [],
   "source": [
    "def draw_lagrangian_descriptor(LD, flag_m, flag_type):\n",
    "    LD = LD.reshape(Nx, Ny).T # Reshape 1D array\n",
    "#     LD = LD / LD.max()  # Scale LD output\n",
    "    ###################################\n",
    "    # Plot LDs\n",
    "    fig,ax = plt.subplots(1,1,dpi=100)\n",
    "    \n",
    "    points_x = numpy.linspace(x_min, x_max, Nx)\n",
    "    points_y = numpy.linspace(y_min, y_max, Ny)    \n",
    "    X, Y = numpy.meshgrid(points_x, points_y)\n",
    "\n",
    "    scatter = plt.scatter(X,Y,c=LD,cmap='bone')\n",
    "    ###################################\n",
    "    # Customise appearance\n",
    "    if flag_m:\n",
    "        str_meth = ' '.join(['p-norm (p=',str(p_norm),')--'])\n",
    "    else:\n",
    "        str_meth = 'arclength --'\n",
    "    \n",
    "    if flag_type == 1:\n",
    "        string_title = ['Forward LDs ', str_meth, '(','$\\\\tau=$ ',str(tau),' , ','$t_0=$',str(t0),')']\n",
    "    elif flag_type == 2:\n",
    "        string_title = ['Backward LDs ', str_meth, '(','$\\\\tau=$ ',str(tau),' , ','$t_0=$',str(t0),')']\n",
    "    else:\n",
    "        string_title = ['LDs ', str_meth, '(','$\\\\tau=$ ',str(tau),' , ','$t_0=$',str(t0),')']\n",
    "    \n",
    "    string_title = ' '.join(string_title)\n",
    "    \n",
    "    ax.set_title(string_title, fontsize=12)\n",
    "    ax.set_xlabel('x', fontsize=18)\n",
    "    ax.set_ylabel('y', fontsize=18)\n",
    "    ax.set_aspect('auto')\n",
    "\n",
    "    fig.colorbar(scatter) # Add color bar\n",
    "\n",
    "    plt.show()"
   ]
  },
  {
   "cell_type": "markdown",
   "metadata": {},
   "source": [
    "# Benchmark examples"
   ]
  },
  {
   "cell_type": "markdown",
   "metadata": {},
   "source": [
    "## Vector fields"
   ]
  },
  {
   "cell_type": "markdown",
   "metadata": {},
   "source": [
    "Define vector field $f(x,y) = (f_1, f_2)$"
   ]
  },
  {
   "cell_type": "markdown",
   "metadata": {},
   "source": [
    "For for the Initial Value problem \n",
    "\n",
    "\\begin{align*}\n",
    "    \\dot{x} &= dx/dt = f_1(x,y)\\\\\n",
    "    \\dot{y} &= dy/dt = f_2(x,y)\n",
    "\\end{align*}"
   ]
  },
  {
   "cell_type": "markdown",
   "metadata": {},
   "source": [
    "with initial condition $(x_0, y_0) \\in \\mathbb{R}^2$ at time $t_0 \\geq 0$"
   ]
  },
  {
   "cell_type": "code",
   "execution_count": 11,
   "metadata": {
    "ExecuteTime": {
     "end_time": "2020-05-19T09:54:04.659967Z",
     "start_time": "2020-05-19T09:54:04.654798Z"
    }
   },
   "outputs": [],
   "source": [
    "def HamCenter1D(t, u):\n",
    "    x, y = u.T\n",
    "    # Hamiltonian Model Parameter\n",
    "    omega = 1\n",
    "    v = numpy.array([ omega * y, - omega * x]).T\n",
    "    return v"
   ]
  },
  {
   "cell_type": "code",
   "execution_count": 12,
   "metadata": {
    "ExecuteTime": {
     "end_time": "2020-05-19T09:54:05.223277Z",
     "start_time": "2020-05-19T09:54:05.215981Z"
    }
   },
   "outputs": [],
   "source": [
    "def HamSaddle1D(t, u):\n",
    "    x, y = u.T\n",
    "    # Hamiltonian Model Parameter\n",
    "    lamda = 1\n",
    "    v = numpy.array([ lamda * y, lamda * x]).T\n",
    "    return v"
   ]
  },
  {
   "cell_type": "code",
   "execution_count": 13,
   "metadata": {
    "ExecuteTime": {
     "end_time": "2020-05-19T09:54:05.665745Z",
     "start_time": "2020-05-19T09:54:05.650245Z"
    }
   },
   "outputs": [],
   "source": [
    "def forcing(t, u, flag_pert, perturbation_params):\n",
    "    x, y = u.T\n",
    "    pert = numpy.zeros((len(x),1))\n",
    "    # Perturbation parameters\n",
    "    A, freq = perturbation_params # Amplitude and Frequency\n",
    "    if flag_pert == 1:\n",
    "        perturbation = A * numpy.sin(freq*t)\n",
    "    elif flag_pert == 2:\n",
    "        perturbation = A * numpy.sech(t) * numpy.sin(freq*t)\n",
    "    else:\n",
    "        perturbation = perturbation\n",
    "    \n",
    "    return perturbation"
   ]
  },
  {
   "cell_type": "code",
   "execution_count": 14,
   "metadata": {
    "ExecuteTime": {
     "end_time": "2020-05-19T09:54:06.446123Z",
     "start_time": "2020-05-19T09:54:06.439296Z"
    }
   },
   "outputs": [],
   "source": [
    "def HamDuffing1D(t, u):\n",
    "    x, y = u.T\n",
    "    # Hamiltonian Model Parameter\n",
    "    perturbation = forcing(t, u, flag_pert, perturbation_params)\n",
    "    v = numpy.array([y, x - x**3 + perturbation]).T\n",
    "    return v"
   ]
  },
  {
   "cell_type": "markdown",
   "metadata": {},
   "source": [
    "## Input parameters"
   ]
  },
  {
   "cell_type": "code",
   "execution_count": 15,
   "metadata": {
    "ExecuteTime": {
     "end_time": "2020-05-19T09:54:07.936374Z",
     "start_time": "2020-05-19T09:54:07.927341Z"
    }
   },
   "outputs": [],
   "source": [
    "###################################\n",
    "# Integration parameters\n",
    "t0 = 0\n",
    "tau = 12\n",
    "dt = 0.1\n",
    "###################################\n",
    "# Lagrangian descriptor parameters\n",
    "p_norm = 1/2\n",
    "flag_m = True\n",
    "###################################\n",
    "# Mesh parameters\n",
    "x_min,x_max = [-1.6, 1.6]\n",
    "y_min,y_max = [-1, 1]\n",
    "Nx, Ny = [300, 300]\n",
    "\n",
    "GRID_PARAMETERS = [(x_min, x_max, Nx), (y_min, y_max, Ny)]\n",
    "\n",
    "dim = 2\n",
    "shape = (Nx*Ny, dim)\n",
    "###################################\n",
    "# Time Dependent Perurbation (for Hamilton Duffing)\n",
    "flag_pert = 1;\n",
    "perturbation_params = [0.15, 0.5]"
   ]
  },
  {
   "cell_type": "markdown",
   "metadata": {},
   "source": [
    "## Compute and Visualise"
   ]
  },
  {
   "cell_type": "markdown",
   "metadata": {},
   "source": [
    "### Hamilton Centre"
   ]
  },
  {
   "cell_type": "code",
   "execution_count": null,
   "metadata": {
    "ExecuteTime": {
     "start_time": "2020-05-19T09:54:10.180Z"
    }
   },
   "outputs": [
    {
     "data": {
      "image/png": "[encoded data removed]",
      "text/plain": [
       "<Figure size 600x400 with 2 Axes>"
      ]
     },
     "metadata": {
      "needs_background": "light"
     },
     "output_type": "display_data"
    }
   ],
   "source": [
    "initial_conditions = generate_points(GRID_PARAMETERS)\n",
    "vector_field = HamCenter1D\n",
    "\n",
    "time_interval = (t0, t0 + tau)\n",
    "LD_forward = compute_lagrangian_descriptor(initial_conditions, vector_field, time_interval)\n",
    "draw_lagrangian_descriptor(LD_forward, True, 1)\n",
    "\n",
    "time_interval = (t0, t0 - tau)\n",
    "LD_backward = compute_lagrangian_descriptor(initial_conditions, vector_field, time_interval)\n",
    "draw_lagrangian_descriptor(LD_backward, True, 2)\n",
    "\n",
    "LD_total = LD_forward + LD_backward\n",
    "draw_lagrangian_descriptor(LD_total, True, 3)"
   ]
  },
  {
   "cell_type": "markdown",
   "metadata": {},
   "source": [
    "### Hamilton Saddle"
   ]
  },
  {
   "cell_type": "code",
   "execution_count": null,
   "metadata": {
    "ExecuteTime": {
     "start_time": "2020-05-19T09:54:11.813Z"
    }
   },
   "outputs": [],
   "source": [
    "initial_conditions = generate_points(GRID_PARAMETERS)\n",
    "vector_field = HamSaddle1D\n",
    "\n",
    "time_interval = (t0, t0 + tau)\n",
    "LD_forward = compute_lagrangian_descriptor(initial_conditions, vector_field, time_interval)\n",
    "draw_lagrangian_descriptor(LD_forward, True, 1)\n",
    "\n",
    "time_interval = (t0, t0 - tau)\n",
    "LD_backward = compute_lagrangian_descriptor(initial_conditions, vector_field, time_interval)\n",
    "draw_lagrangian_descriptor(LD_backward, True, 2)\n",
    "\n",
    "LD_total = LD_forward + LD_backward\n",
    "draw_lagrangian_descriptor(LD_total, True, 3)"
   ]
  },
  {
   "cell_type": "markdown",
   "metadata": {},
   "source": [
    "### Hamilton Duffing"
   ]
  },
  {
   "cell_type": "code",
   "execution_count": null,
   "metadata": {
    "ExecuteTime": {
     "start_time": "2020-05-19T09:54:12.791Z"
    }
   },
   "outputs": [],
   "source": [
    "initial_conditions = generate_points(GRID_PARAMETERS)\n",
    "vector_field = HamDuffing1D\n",
    "\n",
    "time_interval = (t0, t0 + tau)\n",
    "LD_forward = compute_lagrangian_descriptor(initial_conditions, vector_field, time_interval)\n",
    "draw_lagrangian_descriptor(LD_forward, True, 1)\n",
    "\n",
    "time_interval = (t0, t0 - tau)\n",
    "LD_backward = compute_lagrangian_descriptor(initial_conditions, vector_field, time_interval)\n",
    "draw_lagrangian_descriptor(LD_backward, True, 2)\n",
    "\n",
    "LD_total = LD_forward + LD_backward\n",
    "draw_lagrangian_descriptor(LD_total, True, 3)"
   ]
  },
  {
   "cell_type": "markdown",
   "metadata": {},
   "source": [
    "### Hamilton Saddle-Node (IN PROGRESS)"
   ]
  },
  {
   "cell_type": "markdown",
   "metadata": {},
   "source": [
    "<span style='color:red'><b>TO-DO</b></span> Implement _Variable Time Integration_ for systems like the HSN"
   ]
  },
  {
   "cell_type": "code",
   "execution_count": null,
   "metadata": {
    "ExecuteTime": {
     "start_time": "2020-05-19T09:54:17.217Z"
    }
   },
   "outputs": [],
   "source": [
    "def HamSN1D(t, u):\n",
    "    x, y = u.T\n",
    "    # Hamiltonian Model Parameter\n",
    "    v = numpy.array([ y, -x -x**2]).T\n",
    "    return v"
   ]
  },
  {
   "cell_type": "code",
   "execution_count": null,
   "metadata": {
    "ExecuteTime": {
     "start_time": "2020-05-19T09:54:17.765Z"
    }
   },
   "outputs": [],
   "source": [
    "###################################\n",
    "# Integration parameters\n",
    "t0 = 0 # Initial time\n",
    "tau = 1.5 # Time-interval length\n",
    "dt = 0.1 # Timestep\n",
    "###################################\n",
    "# Lagrangian descriptor parameters\n",
    "p_norm = 1/2 # p-value of Lp norm\n",
    "flag_m = True\n",
    "###################################\n",
    "# Grid parameters\n",
    "x_min,x_max = [-1.5, 1] # Grid limits X-axis\n",
    "y_min,y_max = [-1, 1] # Grid limits Y-axis\n",
    "Nx, Ny = [300, 300] # Number of points per axis\n",
    "\n",
    "GRID_PARAMETERS = [(x_min, x_max, Nx), (y_min, y_max, Ny)]\n",
    "\n",
    "dim = 2 # Phase-space Dimension\n",
    "shape = (Nx*Ny, dim) # Shape of array of grid-points\n",
    "###################################\n",
    "# Time Dependent Perurbation (for Hamilton Duffing)\n",
    "flag_pert = 1 \n",
    "perturbation_params = [0.15, 0.5] # Amplitude & Frequency, periodic pertubation"
   ]
  },
  {
   "cell_type": "code",
   "execution_count": null,
   "metadata": {
    "ExecuteTime": {
     "start_time": "2020-05-19T09:54:18.405Z"
    }
   },
   "outputs": [],
   "source": [
    "initial_conditions = generate_points(GRID_PARAMETERS)\n",
    "vector_field = HamSN1D\n",
    "\n",
    "# Compute and draw forward LD\n",
    "time_interval = (t0, t0 + tau)\n",
    "LD_forward = compute_lagrangian_descriptor(initial_conditions, vector_field, time_interval)\n",
    "draw_lagrangian_descriptor(LD_forward, True, 1)\n",
    "\n",
    "# Compute and draw backward LD\n",
    "time_interval = (t0, t0 - tau)\n",
    "LD_backward = compute_lagrangian_descriptor(initial_conditions, vector_field, time_interval)\n",
    "draw_lagrangian_descriptor(LD_backward, True, 2)\n",
    "\n",
    "# Compute and draw total LD\n",
    "LD_total = LD_forward + LD_backward\n",
    "draw_lagrangian_descriptor(LD_total, True, 3)"
   ]
  }
 ],
 "metadata": {
  "kernelspec": {
   "display_name": "Python 3",
   "language": "python",
   "name": "python3"
  },
  "language_info": {
   "codemirror_mode": {
    "name": "ipython",
    "version": 3
   },
   "file_extension": ".py",
   "mimetype": "text/x-python",
   "name": "python",
   "nbconvert_exporter": "python",
   "pygments_lexer": "ipython3",
   "version": "3.7.6"
  },
  "toc": {
   "base_numbering": 1,
   "nav_menu": {},
   "number_sections": false,
   "sideBar": true,
   "skip_h1_title": false,
   "title_cell": "Table of Contents",
   "title_sidebar": "Contents",
   "toc_cell": false,
   "toc_position": {
    "height": "calc(100% - 180px)",
    "left": "10px",
    "top": "150px",
    "width": "384px"
   },
   "toc_section_display": true,
   "toc_window_display": true
  }
 },
 "nbformat": 4,
 "nbformat_minor": 4
}
