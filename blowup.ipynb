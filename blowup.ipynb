{
 "cells": [
  {
   "cell_type": "code",
   "execution_count": 61,
   "metadata": {
    "ExecuteTime": {
     "end_time": "2020-08-04T17:08:53.730502Z",
     "start_time": "2020-08-04T17:08:50.922547Z"
    }
   },
   "outputs": [],
   "source": [
    "import numpy as np"
   ]
  },
  {
   "cell_type": "code",
   "execution_count": 62,
   "metadata": {
    "ExecuteTime": {
     "end_time": "2020-08-04T17:09:06.271269Z",
     "start_time": "2020-08-04T17:08:53.734715Z"
    }
   },
   "outputs": [],
   "source": [
    "import pylds\n",
    "from pylds.base import compute_lagrangian_descriptor, generate_points, vector_field_flat\n",
    "from pylds.tools import draw_lagrangian_descriptor"
   ]
  },
  {
   "cell_type": "code",
   "execution_count": 63,
   "metadata": {
    "ExecuteTime": {
     "end_time": "2020-08-04T17:21:16.905773Z",
     "start_time": "2020-08-04T17:21:16.887003Z"
    }
   },
   "outputs": [],
   "source": [
    "def VRI_vector_field(t,u,PARAMETERS=[None]):\n",
    "    N_dof = u.shape[-1]\n",
    "    points_positions = u.T[:int(N_dof/2)]\n",
    "    points_momenta = u.T[int(N_dof/2):]\n",
    "    x, y = points_positions\n",
    "    p_x, p_y = points_momenta\n",
    "    \n",
    "    v_x = p_x\n",
    "    v_y = p_y\n",
    "    v_p_x = 8*x*(1 - x) + (y**2)*(2 - y**2)\n",
    "    v_p_y = y*( 4*x*(1 - y**2) - 1)\n",
    "    v = np.array([v_x, v_y, v_p_x, v_p_y]).T\n",
    "    return v"
   ]
  },
  {
   "cell_type": "code",
   "execution_count": 64,
   "metadata": {
    "ExecuteTime": {
     "end_time": "2020-08-04T17:21:28.574529Z",
     "start_time": "2020-08-04T17:21:28.565028Z"
    }
   },
   "outputs": [],
   "source": [
    "def VRI_potential(positions, PARAMETERS = [None]):\n",
    "    x, y = positions.T\n",
    "    # Function parameters\n",
    "    # None\n",
    "    # Potential energy function\n",
    "    V = (8/3)*x**3 - 4*x**2 + (1/2)*y**2 + x*(y**2)*(y**2 - 2)\n",
    "    return V"
   ]
  },
  {
   "cell_type": "markdown",
   "metadata": {},
   "source": [
    "<span style=\"color:red\"><b>NOTE</b></span>\n",
    "The mistake was in the definitin of the input parameters.\n",
    "\n",
    "`dims_fixed` where fixed for $x = 1$ instead of $y = 1$"
   ]
  },
  {
   "cell_type": "code",
   "execution_count": 98,
   "metadata": {
    "ExecuteTime": {
     "end_time": "2020-08-04T17:28:40.618547Z",
     "start_time": "2020-08-04T17:28:40.575165Z"
    }
   },
   "outputs": [],
   "source": [
    "# Integration parameters\n",
    "tau = 8\n",
    "\n",
    "# Lp-norm, p-value\n",
    "p_value = 1/2\n",
    "\n",
    "# Mesh visualisation slice parameters\n",
    "H0 = 0.15 # Energy level\n",
    "\n",
    "ax1_min,ax1_max = [-1.5, 1.5]\n",
    "ax2_min,ax2_max = [-1.5, 1.5]\n",
    "N1, N2 = [200, 200]\n",
    "\n",
    "# Box escape condition\n",
    "box_boundaries = [(-1,3),(-3,3)]\n",
    "\n",
    "# Miscellaneous grid parameters\n",
    "dims_fixed = [1,0,0,0] # Variable ordering (x y p_x p_y)\n",
    "dims_fixed_values = [1] # This can also be an array of values\n",
    "dims_slice = [0,1,0,1] # Visualisation slice\n",
    "momentum_sign = 1 # Direction of momentum that defines the slice - (1) positive / (-1) negative"
   ]
  },
  {
   "cell_type": "code",
   "execution_count": 99,
   "metadata": {
    "ExecuteTime": {
     "end_time": "2020-08-04T17:28:41.225062Z",
     "start_time": "2020-08-04T17:28:41.216759Z"
    }
   },
   "outputs": [],
   "source": [
    "potential_energy = VRI_potential\n",
    "vector_field = VRI_vector_field\n",
    "\n",
    "slice_parameters = [[ax1_min, ax1_max, N1],[ax2_min, ax2_max, N2]]\n",
    "\n",
    "grid_parameters = {\n",
    "        'slice_parameters' : slice_parameters,\n",
    "        'dims_slice' : dims_slice,\n",
    "        'dims_fixed' : [dims_fixed, dims_fixed_values],\n",
    "        'momentum_sign' : momentum_sign,\n",
    "        'potential_energy': potential_energy,\n",
    "        'energy_level': H0\n",
    "    }"
   ]
  },
  {
   "cell_type": "code",
   "execution_count": 100,
   "metadata": {
    "ExecuteTime": {
     "end_time": "2020-08-04T17:29:10.786218Z",
     "start_time": "2020-08-04T17:28:41.822430Z"
    }
   },
   "outputs": [
    {
     "ename": "ValueError",
     "evalue": "need at least one array to concatenate",
     "output_type": "error",
     "traceback": [
      "\u001b[0;31m---------------------------------------------------------------------------\u001b[0m",
      "\u001b[0;31mValueError\u001b[0m                                Traceback (most recent call last)",
      "\u001b[0;32m<ipython-input-100-3ec3b4486c67>\u001b[0m in \u001b[0;36m<module>\u001b[0;34m\u001b[0m\n\u001b[0;32m----> 1\u001b[0;31m \u001b[0mLD_forward\u001b[0m \u001b[0;34m=\u001b[0m \u001b[0mcompute_lagrangian_descriptor\u001b[0m\u001b[0;34m(\u001b[0m\u001b[0mgrid_parameters\u001b[0m\u001b[0;34m,\u001b[0m \u001b[0mvector_field\u001b[0m\u001b[0;34m,\u001b[0m \u001b[0mtau\u001b[0m\u001b[0;34m,\u001b[0m \u001b[0mp_value\u001b[0m\u001b[0;34m)\u001b[0m\u001b[0;34m\u001b[0m\u001b[0;34m\u001b[0m\u001b[0m\n\u001b[0m\u001b[1;32m      2\u001b[0m \u001b[0mdraw_lagrangian_descriptor\u001b[0m\u001b[0;34m(\u001b[0m\u001b[0mLD_forward\u001b[0m\u001b[0;34m,\u001b[0m \u001b[0;34m'forward'\u001b[0m\u001b[0;34m,\u001b[0m \u001b[0mslice_parameters\u001b[0m\u001b[0;34m,\u001b[0m \u001b[0mtau\u001b[0m\u001b[0;34m,\u001b[0m \u001b[0mp_value\u001b[0m\u001b[0;34m)\u001b[0m\u001b[0;34m\u001b[0m\u001b[0;34m\u001b[0m\u001b[0m\n\u001b[1;32m      3\u001b[0m \u001b[0;34m\u001b[0m\u001b[0m\n\u001b[1;32m      4\u001b[0m \u001b[0mLD_backward\u001b[0m \u001b[0;34m=\u001b[0m \u001b[0mcompute_lagrangian_descriptor\u001b[0m\u001b[0;34m(\u001b[0m\u001b[0mgrid_parameters\u001b[0m\u001b[0;34m,\u001b[0m \u001b[0mvector_field\u001b[0m\u001b[0;34m,\u001b[0m \u001b[0;34m-\u001b[0m\u001b[0mtau\u001b[0m\u001b[0;34m,\u001b[0m \u001b[0mp_value\u001b[0m\u001b[0;34m)\u001b[0m\u001b[0;34m\u001b[0m\u001b[0;34m\u001b[0m\u001b[0m\n\u001b[1;32m      5\u001b[0m \u001b[0mdraw_lagrangian_descriptor\u001b[0m\u001b[0;34m(\u001b[0m\u001b[0mLD_backward\u001b[0m\u001b[0;34m,\u001b[0m \u001b[0;34m'backward'\u001b[0m\u001b[0;34m,\u001b[0m \u001b[0mslice_parameters\u001b[0m\u001b[0;34m,\u001b[0m \u001b[0mtau\u001b[0m\u001b[0;34m,\u001b[0m \u001b[0mp_value\u001b[0m\u001b[0;34m)\u001b[0m\u001b[0;34m\u001b[0m\u001b[0;34m\u001b[0m\u001b[0m\n",
      "\u001b[0;32m~/Documents/students/becky/lds-master/pylds/base.py\u001b[0m in \u001b[0;36mcompute_lagrangian_descriptor\u001b[0;34m(grid_parameters, vector_field, tau, p_value, box_boundaries)\u001b[0m\n\u001b[1;32m    325\u001b[0m         \u001b[0my0\u001b[0m \u001b[0;34m=\u001b[0m \u001b[0mma\u001b[0m\u001b[0;34m.\u001b[0m\u001b[0mmasked_array\u001b[0m\u001b[0;34m(\u001b[0m\u001b[0my0\u001b[0m\u001b[0;34m,\u001b[0m \u001b[0mmask\u001b[0m\u001b[0;34m=\u001b[0m\u001b[0mmask_y0\u001b[0m\u001b[0;34m)\u001b[0m\u001b[0;34m\u001b[0m\u001b[0;34m\u001b[0m\u001b[0m\n\u001b[1;32m    326\u001b[0m \u001b[0;34m\u001b[0m\u001b[0m\n\u001b[0;32m--> 327\u001b[0;31m     \u001b[0msolution\u001b[0m \u001b[0;34m=\u001b[0m \u001b[0msolve_ivp\u001b[0m\u001b[0;34m(\u001b[0m\u001b[0mf\u001b[0m\u001b[0;34m,\u001b[0m \u001b[0;34m[\u001b[0m\u001b[0;36m0\u001b[0m\u001b[0;34m,\u001b[0m\u001b[0mtau\u001b[0m\u001b[0;34m]\u001b[0m\u001b[0;34m,\u001b[0m \u001b[0my0\u001b[0m\u001b[0;34m,\u001b[0m \u001b[0mt_eval\u001b[0m\u001b[0;34m=\u001b[0m\u001b[0;34m[\u001b[0m\u001b[0mtau\u001b[0m\u001b[0;34m]\u001b[0m\u001b[0;34m,\u001b[0m \u001b[0mrtol\u001b[0m\u001b[0;34m=\u001b[0m\u001b[0;36m1.0e-4\u001b[0m\u001b[0;34m)\u001b[0m\u001b[0;34m\u001b[0m\u001b[0;34m\u001b[0m\u001b[0m\n\u001b[0m\u001b[1;32m    328\u001b[0m \u001b[0;34m\u001b[0m\u001b[0m\n\u001b[1;32m    329\u001b[0m     \u001b[0mLD_values\u001b[0m \u001b[0;34m=\u001b[0m \u001b[0msolution\u001b[0m\u001b[0;34m.\u001b[0m\u001b[0my\u001b[0m\u001b[0;34m[\u001b[0m\u001b[0mN_dim\u001b[0m\u001b[0;34m:\u001b[0m\u001b[0;34m:\u001b[0m\u001b[0mN_dim\u001b[0m\u001b[0;34m+\u001b[0m\u001b[0;36m1\u001b[0m\u001b[0;34m]\u001b[0m \u001b[0;31m#values corresponding to LD\u001b[0m\u001b[0;34m\u001b[0m\u001b[0;34m\u001b[0m\u001b[0m\n",
      "\u001b[0;32m~/anaconda3/lib/python3.7/site-packages/scipy/integrate/_ivp/ivp.py\u001b[0m in \u001b[0;36msolve_ivp\u001b[0;34m(fun, t_span, y0, method, t_eval, dense_output, events, vectorized, args, **options)\u001b[0m\n\u001b[1;32m    649\u001b[0m         \u001b[0mys\u001b[0m \u001b[0;34m=\u001b[0m \u001b[0mnp\u001b[0m\u001b[0;34m.\u001b[0m\u001b[0mvstack\u001b[0m\u001b[0;34m(\u001b[0m\u001b[0mys\u001b[0m\u001b[0;34m)\u001b[0m\u001b[0;34m.\u001b[0m\u001b[0mT\u001b[0m\u001b[0;34m\u001b[0m\u001b[0;34m\u001b[0m\u001b[0m\n\u001b[1;32m    650\u001b[0m     \u001b[0;32melse\u001b[0m\u001b[0;34m:\u001b[0m\u001b[0;34m\u001b[0m\u001b[0;34m\u001b[0m\u001b[0m\n\u001b[0;32m--> 651\u001b[0;31m         \u001b[0mts\u001b[0m \u001b[0;34m=\u001b[0m \u001b[0mnp\u001b[0m\u001b[0;34m.\u001b[0m\u001b[0mhstack\u001b[0m\u001b[0;34m(\u001b[0m\u001b[0mts\u001b[0m\u001b[0;34m)\u001b[0m\u001b[0;34m\u001b[0m\u001b[0;34m\u001b[0m\u001b[0m\n\u001b[0m\u001b[1;32m    652\u001b[0m         \u001b[0mys\u001b[0m \u001b[0;34m=\u001b[0m \u001b[0mnp\u001b[0m\u001b[0;34m.\u001b[0m\u001b[0mhstack\u001b[0m\u001b[0;34m(\u001b[0m\u001b[0mys\u001b[0m\u001b[0;34m)\u001b[0m\u001b[0;34m\u001b[0m\u001b[0;34m\u001b[0m\u001b[0m\n\u001b[1;32m    653\u001b[0m \u001b[0;34m\u001b[0m\u001b[0m\n",
      "\u001b[0;32m<__array_function__ internals>\u001b[0m in \u001b[0;36mhstack\u001b[0;34m(*args, **kwargs)\u001b[0m\n",
      "\u001b[0;32m~/anaconda3/lib/python3.7/site-packages/numpy/core/shape_base.py\u001b[0m in \u001b[0;36mhstack\u001b[0;34m(tup)\u001b[0m\n\u001b[1;32m    343\u001b[0m         \u001b[0;32mreturn\u001b[0m \u001b[0m_nx\u001b[0m\u001b[0;34m.\u001b[0m\u001b[0mconcatenate\u001b[0m\u001b[0;34m(\u001b[0m\u001b[0marrs\u001b[0m\u001b[0;34m,\u001b[0m \u001b[0;36m0\u001b[0m\u001b[0;34m)\u001b[0m\u001b[0;34m\u001b[0m\u001b[0;34m\u001b[0m\u001b[0m\n\u001b[1;32m    344\u001b[0m     \u001b[0;32melse\u001b[0m\u001b[0;34m:\u001b[0m\u001b[0;34m\u001b[0m\u001b[0;34m\u001b[0m\u001b[0m\n\u001b[0;32m--> 345\u001b[0;31m         \u001b[0;32mreturn\u001b[0m \u001b[0m_nx\u001b[0m\u001b[0;34m.\u001b[0m\u001b[0mconcatenate\u001b[0m\u001b[0;34m(\u001b[0m\u001b[0marrs\u001b[0m\u001b[0;34m,\u001b[0m \u001b[0;36m1\u001b[0m\u001b[0;34m)\u001b[0m\u001b[0;34m\u001b[0m\u001b[0;34m\u001b[0m\u001b[0m\n\u001b[0m\u001b[1;32m    346\u001b[0m \u001b[0;34m\u001b[0m\u001b[0m\n\u001b[1;32m    347\u001b[0m \u001b[0;34m\u001b[0m\u001b[0m\n",
      "\u001b[0;32m<__array_function__ internals>\u001b[0m in \u001b[0;36mconcatenate\u001b[0;34m(*args, **kwargs)\u001b[0m\n",
      "\u001b[0;31mValueError\u001b[0m: need at least one array to concatenate"
     ]
    }
   ],
   "source": [
    "LD_forward = compute_lagrangian_descriptor(grid_parameters, vector_field, tau, p_value)\n",
    "draw_lagrangian_descriptor(LD_forward, 'forward', slice_parameters, tau, p_value)"
   ]
  },
  {
   "cell_type": "code",
   "execution_count": null,
   "metadata": {},
   "outputs": [],
   "source": [
    "LD_backward = compute_lagrangian_descriptor(grid_parameters, vector_field, -tau, p_value)\n",
    "draw_lagrangian_descriptor(LD_backward, 'backward', slice_parameters, tau, p_value)"
   ]
  },
  {
   "cell_type": "code",
   "execution_count": null,
   "metadata": {},
   "outputs": [],
   "source": [
    "LD_total = LD_forward + LD_backward\n",
    "draw_lagrangian_descriptor(LD_total, 'total', slice_parameters, tau, p_value)"
   ]
  },
  {
   "cell_type": "markdown",
   "metadata": {},
   "source": [
    "# Compute LD gradient "
   ]
  },
  {
   "cell_type": "code",
   "execution_count": null,
   "metadata": {},
   "outputs": [],
   "source": []
  }
 ],
 "metadata": {
  "kernelspec": {
   "display_name": "Python 3",
   "language": "python",
   "name": "python3"
  },
  "language_info": {
   "codemirror_mode": {
    "name": "ipython",
    "version": 3
   },
   "file_extension": ".py",
   "mimetype": "text/x-python",
   "name": "python",
   "nbconvert_exporter": "python",
   "pygments_lexer": "ipython3",
   "version": "3.7.7"
  },
  "toc": {
   "base_numbering": 1,
   "nav_menu": {},
   "number_sections": true,
   "sideBar": true,
   "skip_h1_title": false,
   "title_cell": "Table of Contents",
   "title_sidebar": "Contents",
   "toc_cell": false,
   "toc_position": {},
   "toc_section_display": true,
   "toc_window_display": false
  }
 },
 "nbformat": 4,
 "nbformat_minor": 4
}
